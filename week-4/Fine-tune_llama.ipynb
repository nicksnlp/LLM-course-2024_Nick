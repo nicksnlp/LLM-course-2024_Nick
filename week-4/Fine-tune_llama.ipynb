{
  "cells": [
    {
      "cell_type": "code",
      "execution_count": null,
      "metadata": {
        "vscode": {
          "languageId": "plaintext"
        },
        "id": "zwaDgeMvMIOj"
      },
      "outputs": [],
      "source": [
        "# Install necessary dependencies\n",
        "!pip install huggingface_hub transformers datasets peft accelerate wandb\n"
      ]
    },
    {
      "cell_type": "code",
      "execution_count": null,
      "metadata": {
        "vscode": {
          "languageId": "plaintext"
        },
        "id": "VZszs0INMIOk"
      },
      "outputs": [],
      "source": [
        "\n",
        "import os\n",
        "import re\n",
        "from huggingface_hub import login\n",
        "from transformers import AutoModelForTokenClassification, AutoTokenizer, Trainer, TrainingArguments\n",
        "from datasets import Dataset\n",
        "import torch\n",
        "import wandb\n",
        "from google.colab import drive\n",
        "from peft import LoraConfig, get_peft_model\n",
        "\n",
        "from google.colab import userdata\n",
        "HUGGING_API = userdata.get('HUGGINGFACE_READ_AND_WRITE')\n",
        "GOOGLE_API = userdata.get('GOOGLE_API_KEY')\n",
        "WANDB_key = userdata.get('WANDB')\n"
      ]
    },
    {
      "cell_type": "code",
      "execution_count": null,
      "metadata": {
        "vscode": {
          "languageId": "plaintext"
        },
        "id": "9xODWcdcMIOl"
      },
      "outputs": [],
      "source": [
        "\n",
        "# Login to Hugging Face\n",
        "login(token=HUGGINGFACE_API)\n"
      ]
    },
    {
      "cell_type": "code",
      "execution_count": null,
      "metadata": {
        "vscode": {
          "languageId": "plaintext"
        },
        "id": "6dwpfw9vMIOl"
      },
      "outputs": [],
      "source": [
        "\n",
        "# Login to Weights & Biases\n",
        "wandb.login(key=WANDB_key)\n"
      ]
    },
    {
      "cell_type": "code",
      "execution_count": null,
      "metadata": {
        "vscode": {
          "languageId": "plaintext"
        },
        "id": "MrLTbi8PMIOl"
      },
      "outputs": [],
      "source": [
        "\n",
        "run = wandb.init(project='llama-7b-hallucination', job_type=\"training\", anonymous=\"allow\", name=\"test_1\")\n"
      ]
    },
    {
      "cell_type": "code",
      "execution_count": null,
      "metadata": {
        "vscode": {
          "languageId": "plaintext"
        },
        "id": "TYRv_2-JMIOl"
      },
      "outputs": [],
      "source": [
        "\n",
        "# Mount Google Drive to save models\n",
        "drive.mount('/content/drive/')"
      ]
    },
    {
      "cell_type": "code",
      "execution_count": null,
      "metadata": {
        "vscode": {
          "languageId": "plaintext"
        },
        "id": "oVDga17eMIOm"
      },
      "outputs": [],
      "source": [
        "\n",
        "# Step 5: Create and Prepare Dataset for Hallucination Detection\n",
        "# This dataset will have two fields: 'text' and 'labels'\n"
      ]
    },
    {
      "cell_type": "code",
      "execution_count": null,
      "metadata": {
        "vscode": {
          "languageId": "plaintext"
        },
        "id": "GTvUWMfhMIOm"
      },
      "outputs": [],
      "source": [
        "\n",
        "# 1. Load your dataset\n",
        "data = [\n",
        "    {\"text\": \"The Eiffel Tower is located in Berlin, Germany.\", \"labels\": [0, 0, 0, 0, 0, 1, 1]},  # Hallucinated words: \"Berlin\", \"Germany\"\n",
        "    {\"text\": \"The capital of France is Paris.\", \"labels\": [0, 0, 0, 0]},  # Correct sentence\n",
        "    {\"text\": \"The Amazon River flows through Asia.\", \"labels\": [0, 0, 0, 1]},  # Hallucinated word: \"Asia\"\n",
        "]\n"
      ]
    },
    {
      "cell_type": "code",
      "execution_count": null,
      "metadata": {
        "vscode": {
          "languageId": "plaintext"
        },
        "id": "eN1yTGNRMIOm"
      },
      "outputs": [],
      "source": [
        "\n",
        "# 2. Load the tokenizer\n",
        "tokenizer = AutoTokenizer.from_pretrained(\"meta-llama/Llama-2-7b-hf\")\n"
      ]
    },
    {
      "cell_type": "code",
      "execution_count": null,
      "metadata": {
        "vscode": {
          "languageId": "plaintext"
        },
        "id": "J_Zt7-wRMIOm"
      },
      "outputs": [],
      "source": [
        "\n",
        "# 3. Preprocessing function: Tokenizing by words and punctuation (treat punctuation as words)\n",
        "def preprocess_function(examples):\n",
        "    tokenized_input = []\n",
        "    all_labels = []\n",
        "\n",
        "    for idx, sentence in enumerate(examples['text']):\n",
        "        word_labels = examples['labels'][idx]  # Get the corresponding labels for the sentence\n",
        "\n",
        "        # Manually separate punctuation marks as individual \"words\"\n",
        "        sentence = re.sub(r\"([.,!?;])\", r\" \\1 \", sentence)  # Add spaces around punctuation marks\n",
        "\n",
        "        # Tokenize the sentence (this will now include punctuation as separate tokens)\n",
        "        word_tokens = tokenizer.tokenize(sentence)\n",
        "\n",
        "        # Split the sentence into words and punctuation for easier labeling\n",
        "        words = sentence.split()\n",
        "\n",
        "        # Ensure labels match the number of words\n",
        "        assert len(word_labels) == len(words), f\"Number of labels does not match the number of words in the sentence: {sentence}\"\n",
        "\n",
        "        # Create labels based on word-level tokens\n",
        "        expanded_labels = []\n",
        "        for word, label in zip(words, word_labels):\n",
        "            word_token_count = len(tokenizer.tokenize(word))\n",
        "            expanded_labels.extend([label] * word_token_count)  # Assign the label to each token of the word\n",
        "\n",
        "        # Tokenize the entire sentence to get input_ids and attention_mask\n",
        "        tokenized_sentence = tokenizer(sentence, padding=\"max_length\", truncation=True, max_length=128)\n",
        "\n",
        "        # Append the tokenized input and its corresponding labels\n",
        "        tokenized_input.append(tokenized_sentence)\n",
        "        all_labels.append(expanded_labels)\n",
        "\n",
        "    return {\n",
        "        'input_ids': [item['input_ids'] for item in tokenized_input],\n",
        "        'attention_mask': [item['attention_mask'] for item in tokenized_input],\n",
        "        'labels': all_labels\n",
        "    }\n"
      ]
    },
    {
      "cell_type": "code",
      "execution_count": null,
      "metadata": {
        "vscode": {
          "languageId": "plaintext"
        },
        "id": "3TW3lwh5MIOm"
      },
      "outputs": [],
      "source": [
        "\n",
        "# 4. Convert data to Hugging Face dataset format\n",
        "dataset = Dataset.from_dict({\n",
        "    'text': [item['text'] for item in data],\n",
        "    'labels': [item['labels'] for item in data]\n",
        "})\n"
      ]
    },
    {
      "cell_type": "code",
      "execution_count": null,
      "metadata": {
        "vscode": {
          "languageId": "plaintext"
        },
        "id": "P1QX_uIoMIOn"
      },
      "outputs": [],
      "source": [
        "\n",
        "# 5. Apply the preprocessing\n",
        "tokenized_data = dataset.map(preprocess_function, batched=True)\n"
      ]
    },
    {
      "cell_type": "code",
      "execution_count": null,
      "metadata": {
        "vscode": {
          "languageId": "plaintext"
        },
        "id": "SHDgXVR7MIOn"
      },
      "outputs": [],
      "source": [
        "\n",
        "# 6. Check tokenized data\n",
        "print(\"Tokenized data:\")\n",
        "for item in tokenized_data:\n",
        "    print(item)\n"
      ]
    },
    {
      "cell_type": "code",
      "execution_count": null,
      "metadata": {
        "vscode": {
          "languageId": "plaintext"
        },
        "id": "JoFAbN1gMIOn"
      },
      "outputs": [],
      "source": [
        "\n",
        "# Load model for token classification\n",
        "model = AutoModelForTokenClassification.from_pretrained(\"meta-llama/Llama-2-7b-hf\", num_labels=2)\n"
      ]
    },
    {
      "cell_type": "code",
      "execution_count": null,
      "metadata": {
        "vscode": {
          "languageId": "plaintext"
        },
        "id": "1gEG7omWMIOn"
      },
      "outputs": [],
      "source": [
        "\n",
        "# Apply PEFT (LoRA)\n",
        "lora_config = LoraConfig(\n",
        "    r=8,  # Low-rank factor (adjust this based on your needs)\n",
        "    lora_alpha=16,  # Scaling factor for LoRA\n",
        "    lora_dropout=0.1,  # Dropout rate for LoRA\n",
        "    bias=\"none\"  # Specify whether or not to use biases in LoRA layers\n",
        ")\n"
      ]
    },
    {
      "cell_type": "code",
      "execution_count": null,
      "metadata": {
        "vscode": {
          "languageId": "plaintext"
        },
        "id": "izwBWswjMIOn"
      },
      "outputs": [],
      "source": [
        "\n",
        "# Apply LoRA to the model\n",
        "model = get_peft_model(model, lora_config)\n"
      ]
    },
    {
      "cell_type": "code",
      "execution_count": null,
      "metadata": {
        "vscode": {
          "languageId": "plaintext"
        },
        "id": "XTDk5fM4MIOn"
      },
      "outputs": [],
      "source": [
        "\n",
        "# Define label names (0 = correct, 1 = hallucinated)\n",
        "model.config.id2label = {0: \"correct\", 1: \"hallucinated\"}\n",
        "model.config.label2id = {\"correct\": 0, \"hallucinated\": 1}\n"
      ]
    },
    {
      "cell_type": "code",
      "execution_count": null,
      "metadata": {
        "vscode": {
          "languageId": "plaintext"
        },
        "id": "DZaMzhjJMIOn"
      },
      "outputs": [],
      "source": [
        "\n",
        "# Set up training arguments\n",
        "training_args = TrainingArguments(\n",
        "    output_dir=\"/content/drive/MyDrive/NLP/MODELS/FineTunedModel\",  # Path to save the model\n",
        "    evaluation_strategy=\"epoch\",  # Evaluate the model every epoch\n",
        "    learning_rate=2e-5,  # Learning rate\n",
        "    per_device_train_batch_size=4,  # Training batch size\n",
        "    per_device_eval_batch_size=8,  # Evaluation batch size\n",
        "    num_train_epochs=3,  # Number of epochs\n",
        "    weight_decay=0.01,  # Weight decay for optimization\n",
        "    logging_dir=\"/content/drive/MyDrive/NLP/MODELS/Logs\",  # Save logs to Google Drive\n",
        "    logging_steps=10,  # Log every 10 steps\n",
        "    push_to_hub=False,  # Set to True to upload the model after training\n",
        "    report_to=\"wandb\",  # Report metrics to Weights & Biases\n",
        "    run_name=\"test_1\",\n",
        "    resume_from_checkpoint=True,  # Automatically resume from the last checkpoint\n",
        "    save_steps=300,\n",
        "    save_total_limit=3, # keep only the last 3 checkpoints\n",
        ")\n"
      ]
    },
    {
      "cell_type": "code",
      "execution_count": null,
      "metadata": {
        "vscode": {
          "languageId": "plaintext"
        },
        "id": "qUeikuY9MIOn"
      },
      "outputs": [],
      "source": [
        "\n",
        "# Initialize the Trainer with model, training arguments, and datasets\n",
        "trainer = Trainer(\n",
        "    model=model,\n",
        "    args=training_args,\n",
        "    train_dataset=tokenized_data,  # Use the tokenized dataset for training\n",
        "    eval_dataset=tokenized_data,  # Optional: Use the same dataset for evaluation\n",
        "    tokenizer=tokenizer,\n",
        ")\n"
      ]
    },
    {
      "cell_type": "code",
      "execution_count": null,
      "metadata": {
        "vscode": {
          "languageId": "plaintext"
        },
        "id": "kmOdMfYBMIOn"
      },
      "outputs": [],
      "source": [
        "\n",
        "# Start training\n",
        "trainer.train()\n"
      ]
    },
    {
      "cell_type": "code",
      "execution_count": null,
      "metadata": {
        "vscode": {
          "languageId": "plaintext"
        },
        "id": "5C_0VrmxMIOn"
      },
      "outputs": [],
      "source": [
        "\n",
        "# Save the fine-tuned model to Google Drive\n",
        "model_save_path = \"/content/drive/MyDrive/NLP/MODELS/FineTunedModel\"\n",
        "trainer.save_model(model_save_path)\n"
      ]
    },
    {
      "cell_type": "code",
      "execution_count": null,
      "metadata": {
        "vscode": {
          "languageId": "plaintext"
        },
        "id": "rz0pdlkoMIOn"
      },
      "outputs": [],
      "source": [
        "\n",
        "# Optionally, push the fine-tuned model to Hugging Face Hub\n",
        "model.push_to_hub(\"your_huggingface_username/your_model_repo_name\")\n",
        "tokenizer.push_to_hub(\"your_huggingface_username/your_model_repo_name\")\n"
      ]
    },
    {
      "cell_type": "code",
      "execution_count": null,
      "metadata": {
        "vscode": {
          "languageId": "plaintext"
        },
        "id": "LY00RPl1MIOn"
      },
      "outputs": [],
      "source": [
        "\n",
        "wandb.finish()\n"
      ]
    },
    {
      "cell_type": "code",
      "execution_count": null,
      "metadata": {
        "vscode": {
          "languageId": "plaintext"
        },
        "id": "F7C7Ud09MIOo"
      },
      "outputs": [],
      "source": [
        "\n",
        "# Inference: Using the Fine-Tuned Model for Inference\n",
        "def infer_with_model(input_text):\n",
        "    # Tokenize the input text\n",
        "    inputs = tokenizer(input_text, return_tensors=\"pt\", padding=True, truncation=True, max_length=128)\n",
        "\n",
        "    # Predict the token labels (hallucination vs. correct)\n",
        "    with torch.no_grad():\n",
        "        outputs = model(**inputs)\n",
        "        logits = outputs.logits  # Raw logits output from the model\n",
        "\n",
        "    # Get the predicted labels (0 for correct, 1 for hallucinated)\n",
        "    predicted_labels = torch.argmax(logits, dim=-1)\n",
        "\n",
        "    # Decode the tokens from the input text\n",
        "    tokens = tokenizer.tokenize(input_text)\n",
        "\n",
        "    # Get the corresponding predicted labels for each token\n",
        "    labeled_tokens = list(zip(tokens, predicted_labels[0].tolist()))\n",
        "\n",
        "    # Create a list of hallucinated words\n",
        "    hallucinated_words = [token for token, label in labeled_tokens if label == 1]\n",
        "\n",
        "    return hallucinated_words\n"
      ]
    },
    {
      "cell_type": "code",
      "execution_count": null,
      "metadata": {
        "vscode": {
          "languageId": "plaintext"
        },
        "id": "4Eki8QQiMIOo"
      },
      "outputs": [],
      "source": [
        "\n",
        "# Example usage of the inference function\n",
        "input_text = \"The Eiffel Tower is located in Berlin, Germany.\"\n",
        "hallucinated_words = infer_with_model(input_text)\n",
        "\n",
        "# Print the list of hallucinated words\n",
        "print(\"Hallucinated words:\")\n",
        "print(hallucinated_words)\n"
      ]
    }
  ],
  "metadata": {
    "language_info": {
      "name": "python"
    },
    "colab": {
      "provenance": []
    }
  },
  "nbformat": 4,
  "nbformat_minor": 0
}